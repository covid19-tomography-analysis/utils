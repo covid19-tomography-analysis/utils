{
  "nbformat": 4,
  "nbformat_minor": 0,
  "metadata": {
    "colab": {
      "name": "image_utils.ipynb",
      "provenance": [],
      "collapsed_sections": [],
      "authorship_tag": "ABX9TyO8XE9EcXV019zuZafH1nyY",
      "include_colab_link": true
    },
    "kernelspec": {
      "name": "python3",
      "display_name": "Python 3"
    },
    "language_info": {
      "name": "python"
    }
  },
  "cells": [
    {
      "cell_type": "markdown",
      "metadata": {
        "id": "view-in-github",
        "colab_type": "text"
      },
      "source": [
        "<a href=\"https://colab.research.google.com/github/covid19-tomography-analysis/utils/blob/main/image_utils.ipynb\" target=\"_parent\"><img src=\"https://colab.research.google.com/assets/colab-badge.svg\" alt=\"Open In Colab\"/></a>"
      ]
    },
    {
      "cell_type": "code",
      "source": [
        "import cv2\n",
        "from google.colab import drive\n",
        "from glob import glob\n",
        "import os"
      ],
      "metadata": {
        "id": "27kb4Wlu464p"
      },
      "execution_count": null,
      "outputs": []
    },
    {
      "cell_type": "code",
      "source": [
        "def get_file_names(path, extension):\n",
        "  file_names = glob(os.path.join(path,f'*.{extension}'))\n",
        "  return file_names"
      ],
      "metadata": {
        "id": "Jg2BcvJe5hio"
      },
      "execution_count": null,
      "outputs": []
    },
    {
      "cell_type": "code",
      "source": [
        "def mount_drive():\n",
        "  drive.mount('/content/drive', force_remount=True) \n",
        "  %cd \"/content/drive/My Drive/Colab Notebooks/Covid 19 Tomography Analysis\""
      ],
      "metadata": {
        "id": "sy8Gm0SB8F4Q"
      },
      "execution_count": null,
      "outputs": []
    },
    {
      "cell_type": "code",
      "source": [
        "def get_image_mock():\n",
        "  image = cv2.imread('./image_mock.png')\n",
        "  image_greyscale = image[:, :, 0]\n",
        "  return image_greyscale"
      ],
      "metadata": {
        "id": "EsyzadJn283E"
      },
      "execution_count": null,
      "outputs": []
    }
  ]
}