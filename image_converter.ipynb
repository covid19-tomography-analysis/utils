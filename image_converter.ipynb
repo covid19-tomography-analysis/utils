{
  "nbformat": 4,
  "nbformat_minor": 0,
  "metadata": {
    "colab": {
      "name": "image_converter.ipynb",
      "provenance": [],
      "authorship_tag": "ABX9TyNuYylbACkGAaQ3uxlWpw4/",
      "include_colab_link": true
    },
    "kernelspec": {
      "name": "python3",
      "display_name": "Python 3"
    },
    "language_info": {
      "name": "python"
    }
  },
  "cells": [
    {
      "cell_type": "markdown",
      "metadata": {
        "id": "view-in-github",
        "colab_type": "text"
      },
      "source": [
        "<a href=\"https://colab.research.google.com/github/covid19-tomography-analysis/utils/blob/main/image_converter.ipynb\" target=\"_parent\"><img src=\"https://colab.research.google.com/assets/colab-badge.svg\" alt=\"Open In Colab\"/></a>"
      ]
    },
    {
      "cell_type": "code",
      "source": [
        "# Missing packages\n",
        "!pip install pydicom\n",
        "!pip install pillow\n",
        "!pip install pylibjpeg pylibjpeg-libjpeg pydicom\n",
        "!pip install python-gdcm"
      ],
      "metadata": {
        "colab": {
          "base_uri": "https://localhost:8080/"
        },
        "id": "8v14aQ9n6GpA",
        "outputId": "97c439fd-5ddf-4a5e-e17a-27c780ed71b9"
      },
      "execution_count": null,
      "outputs": []
    },
    {
      "cell_type": "code",
      "source": [
        "from PIL import Image\n",
        "from pydicom import dcmread\n",
        "import numpy as np"
      ],
      "metadata": {
        "id": "27kb4Wlu464p"
      },
      "execution_count": null,
      "outputs": []
    },
    {
      "cell_type": "code",
      "execution_count": null,
      "metadata": {
        "id": "AitZfbj94zBm"
      },
      "outputs": [],
      "source": [
        "def convert_dicom_to_jpg(file_name):\n",
        "  image = dcmread(file_name)\n",
        "  image.PhotometricInterpretation = 'YBR_FULL'\n",
        "  arr = image.pixel_array.astype(float)\n",
        "\n",
        "  rescaled_image = (np.maximum(arr, 0) / arr.max()) * 255 \n",
        "  final_image = np.uint8(rescaled_image) \n",
        "\n",
        "  final_image = Image.fromarray(final_image)\n",
        "  return final_image"
      ]
    },
    {
      "cell_type": "code",
      "source": [
        "def convert_image_to_array(image):\n",
        "  return np.asarray(image)"
      ],
      "metadata": {
        "id": "ihKc5tbCwBX0"
      },
      "execution_count": null,
      "outputs": []
    }
  ]
}
