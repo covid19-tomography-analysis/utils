{
  "nbformat": 4,
  "nbformat_minor": 0,
  "metadata": {
    "colab": {
      "name": "plot_images.ipynb",
      "provenance": [],
      "collapsed_sections": [],
      "mount_file_id": "1z_0uzwwx4lACOyiPEntZ8K0ZVdCuhwNK",
      "authorship_tag": "ABX9TyNqcPGMDO+JxuwS8snlnwjJ",
      "include_colab_link": true
    },
    "kernelspec": {
      "name": "python3",
      "display_name": "Python 3"
    },
    "language_info": {
      "name": "python"
    }
  },
  "cells": [
    {
      "cell_type": "markdown",
      "metadata": {
        "id": "view-in-github",
        "colab_type": "text"
      },
      "source": [
        "<a href=\"https://colab.research.google.com/github/covid19-tomography-analysis/utils/blob/main/plot_images.ipynb\" target=\"_parent\"><img src=\"https://colab.research.google.com/assets/colab-badge.svg\" alt=\"Open In Colab\"/></a>"
      ]
    },
    {
      "cell_type": "code",
      "execution_count": null,
      "metadata": {
        "id": "nEHmB8UFUyQb"
      },
      "outputs": [],
      "source": [
        "import numpy as np\n",
        "import cv2\n",
        "from matplotlib import pyplot as plt\n",
        "import image_stats"
      ]
    },
    {
      "cell_type": "code",
      "source": [
        "def get_figure_pixels():\n",
        "  return 1/plt.rcParams['figure.dpi']"
      ],
      "metadata": {
        "id": "cXNkWFcnGAOY"
      },
      "execution_count": null,
      "outputs": []
    },
    {
      "cell_type": "code",
      "source": [
        "def get_figure_axes(width, height, ncols=1, nrows=1 ):\n",
        "  px = get_figure_pixels()\n",
        "  fig, ax = plt.subplots(ncols=ncols, nrows=nrows, figsize=(width*px, height*px))\n",
        "  return fig, ax"
      ],
      "metadata": {
        "id": "751nILSc3ZYY"
      },
      "execution_count": null,
      "outputs": []
    },
    {
      "cell_type": "code",
      "source": [
        "def plot_images_with_stats(images):\n",
        "  for i, image in enumerate(images):\n",
        "    width, height = image.shape\n",
        "    fig, ax = get_figure_axes(width*4, height, ncols=2)\n",
        "    ax[0].imshow(image, cmap=\"gray\" )\n",
        "    image_stats_dict = image_stats.get_stats_by_line_dict(image)\n",
        "    for key, value in image_stats_dict.items():\n",
        "      ax[1].plot(value, label=key)\n",
        "      plt.legend()"
      ],
      "metadata": {
        "id": "B8dtx17iFs4y"
      },
      "execution_count": null,
      "outputs": []
    },
    {
      "cell_type": "code",
      "source": [
        "def plot_image_with_stats(image):\n",
        "    width, height = image.shape\n",
        "    fig, ax = get_figure_axes(width*4, height, ncols=2)\n",
        "    ax[0].imshow(image, cmap=\"gray\" )\n",
        "    image_stats_dict = image_stats.get_stats_by_line_dict(image)\n",
        "    for key, value in image_stats_dict.items():\n",
        "      ax[1].plot(value, label=key)\n",
        "    plt.legend()"
      ],
      "metadata": {
        "id": "iIlwerPILzmr"
      },
      "execution_count": null,
      "outputs": []
    },
    {
      "cell_type": "code",
      "source": [
        "def plot_images_list(images):\n",
        "  px = get_figure_pixels()\n",
        "  width, height = images[0].shape\n",
        "  nrows, ncols = 1, len(images)\n",
        "  total_width = width*ncols\n",
        "  total_height = height*nrows\n",
        "  if total_width < 2**16 and total_height < 2**16:\n",
        "    fig, ax = plt.subplots(ncols=ncols, nrows=nrows, figsize=(total_width*px, total_height*px))\n",
        "    for i, axi in enumerate(ax.flat):\n",
        "      axi.imshow(images[i], cmap=\"gray\")\n",
        "  else:\n",
        "    for image in images:\n",
        "      width, height = image.shape\n",
        "      fig, ax = get_figure_axes(width, height)\n",
        "      plt.imshow(image, cmap=\"gray\")\n"
      ],
      "metadata": {
        "id": "ItJetWbiv4v_"
      },
      "execution_count": null,
      "outputs": []
    },
    {
      "cell_type": "code",
      "source": [
        "def plot_images(*args):\n",
        "  px = get_figure_pixels()\n",
        "  nrows, ncols = max([len(i) for i in args]), np.shape(args)[0]\n",
        "  image = args[0][0]  \n",
        "  width, height = image.shape\n",
        "  fig, ax = plt.subplots(nrows=nrows, ncols=ncols, figsize=(width*px*ncols, height*px*nrows))\n",
        "  for i, images in enumerate(args):\n",
        "    for j, image in enumerate(images):\n",
        "      ax[j][i].imshow(args[i][j], cmap=\"gray\")\n",
        "\n",
        "  plt.tight_layout(True)\n",
        "  plt.show()"
      ],
      "metadata": {
        "id": "45fbBzSMVvj0"
      },
      "execution_count": null,
      "outputs": []
    }
  ]
}
